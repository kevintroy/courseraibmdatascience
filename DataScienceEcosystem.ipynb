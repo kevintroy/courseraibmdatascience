{
 "cells": [
  {
   "cell_type": "markdown",
   "id": "12bc6adb-b012-400d-885b-2355d3faf3a4",
   "metadata": {},
   "source": [
    "# Data Science Tools and Ecosystem"
   ]
  },
  {
   "cell_type": "markdown",
   "id": "9280c776-2d02-4081-b444-d778e30eff20",
   "metadata": {},
   "source": [
    "In this notebook, data science tools and ecosystem are summarized."
   ]
  },
  {
   "cell_type": "markdown",
   "id": "0085f274-4ee2-46da-891c-d4131f758ced",
   "metadata": {},
   "source": [
    "Some of the popular languages data scientists use include:\n",
    "1. SQL\n",
    "2. Python\n",
    "3. R\n",
    "4. Julia\n",
    "5. C++\n",
    "6. Java"
   ]
  },
  {
   "cell_type": "markdown",
   "id": "2b69aeba-adc1-4867-b22e-a1c2329f0e10",
   "metadata": {},
   "source": [
    "Some of the popular libraries used by data scientists include:\n",
    "1. Numpy, pandas, and matplotlib (for Python)\n",
    "2. Dplyr, ggplot2, and other \"tidyverse\" packages (for R)"
   ]
  },
  {
   "cell_type": "markdown",
   "id": "0c8de413-b11f-4548-8c1c-ea8b9289d69c",
   "metadata": {},
   "source": [
    "|Data Science Tools|\n",
    "| ------ |\n",
    "| Jupyter Notebooks |\n",
    "| Jupyter Lab |\n",
    "| RStudio IDE |\n",
    "| Git |"
   ]
  },
  {
   "cell_type": "markdown",
   "id": "1f7272e4-dc81-4c05-aed5-d66ac650e615",
   "metadata": {},
   "source": [
    "### Below are a few examples of arithmetic expressions in Python"
   ]
  },
  {
   "cell_type": "code",
   "execution_count": 10,
   "id": "b40b08ec-2255-4a92-93e9-fb6344c14793",
   "metadata": {},
   "outputs": [
    {
     "data": {
      "text/plain": [
       "17"
      ]
     },
     "execution_count": 10,
     "metadata": {},
     "output_type": "execute_result"
    }
   ],
   "source": [
    "# This is a simple arithmetic expression to add and multiply integers\n",
    "\n",
    "(3 * 4) + 5"
   ]
  },
  {
   "cell_type": "code",
   "execution_count": 12,
   "id": "e9ce75e6-ef76-4937-ab56-67f48cf7cbd8",
   "metadata": {},
   "outputs": [
    {
     "data": {
      "text/plain": [
       "3.3333333333333335"
      ]
     },
     "execution_count": 12,
     "metadata": {},
     "output_type": "execute_result"
    }
   ],
   "source": [
    "# This will convert 200 minutes to hours by division\n",
    "\n",
    "200 / 60"
   ]
  },
  {
   "cell_type": "markdown",
   "id": "e785145c-547f-4803-b797-aad7fbc74988",
   "metadata": {},
   "source": [
    "**Objectives:**\n",
    "+ List data science languages\n",
    "+ Mention popular libraries in those languages\n",
    "+ List popular IDEs and other tools\n",
    "+ Demonstrate arithmetic in Python via Jupyter notebooks"
   ]
  },
  {
   "cell_type": "markdown",
   "id": "363c309a-8e33-4c7d-8114-6be2d2124881",
   "metadata": {},
   "source": [
    "## Author:\n",
    "Kevin Troy"
   ]
  }
 ],
 "metadata": {
  "kernelspec": {
   "display_name": "Python [conda env:base] *",
   "language": "python",
   "name": "conda-base-py"
  },
  "language_info": {
   "codemirror_mode": {
    "name": "ipython",
    "version": 3
   },
   "file_extension": ".py",
   "mimetype": "text/x-python",
   "name": "python",
   "nbconvert_exporter": "python",
   "pygments_lexer": "ipython3",
   "version": "3.12.7"
  }
 },
 "nbformat": 4,
 "nbformat_minor": 5
}
